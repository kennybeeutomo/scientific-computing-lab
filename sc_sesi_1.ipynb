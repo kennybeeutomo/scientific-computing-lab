{
  "nbformat": 4,
  "nbformat_minor": 0,
  "metadata": {
    "colab": {
      "provenance": [],
      "authorship_tag": "ABX9TyMkbizOjRKhd/C2WeB05Dig",
      "include_colab_link": true
    },
    "kernelspec": {
      "name": "python3",
      "display_name": "Python 3"
    },
    "language_info": {
      "name": "python"
    }
  },
  "cells": [
    {
      "cell_type": "markdown",
      "metadata": {
        "id": "view-in-github",
        "colab_type": "text"
      },
      "source": [
        "<a href=\"https://colab.research.google.com/github/kennybeeutomo/scientific-computing-lab/blob/main/sc_sesi_1.ipynb\" target=\"_parent\"><img src=\"https://colab.research.google.com/assets/colab-badge.svg\" alt=\"Open In Colab\"/></a>"
      ]
    },
    {
      "cell_type": "code",
      "execution_count": null,
      "metadata": {
        "id": "cA7MVr7PizLT"
      },
      "outputs": [],
      "source": [
        "import time"
      ]
    },
    {
      "cell_type": "code",
      "source": [
        "print(time.ctime())"
      ],
      "metadata": {
        "colab": {
          "base_uri": "https://localhost:8080/"
        },
        "id": "SIcqgR_NjvEK",
        "outputId": "f0b5d14d-5cb2-4461-f43c-fcb49b5cdb25"
      },
      "execution_count": null,
      "outputs": [
        {
          "output_type": "stream",
          "name": "stdout",
          "text": [
            "Thu Feb  6 04:45:13 2025\n"
          ]
        }
      ]
    },
    {
      "cell_type": "code",
      "source": [
        "x = 10\n",
        "y = 'Kenny'\n",
        "z = [\"Kenny\", \"Bee\", \"Utomo\"]\n",
        "x, y, z"
      ],
      "metadata": {
        "colab": {
          "base_uri": "https://localhost:8080/"
        },
        "id": "HcL8tVeqkA7k",
        "outputId": "6019b2a5-0320-40da-e17b-bb6f077f2465"
      },
      "execution_count": null,
      "outputs": [
        {
          "output_type": "execute_result",
          "data": {
            "text/plain": [
              "(10, 'Kenny', ['Kenny', 'Bee', 'Utomo'])"
            ]
          },
          "metadata": {},
          "execution_count": 10
        }
      ]
    },
    {
      "cell_type": "code",
      "source": [
        "a = int(1)\n",
        "b = int(2.3)\n",
        "c = int(\"42\")\n",
        "d = str(56)\n",
        "\n",
        "a, b, c, d"
      ],
      "metadata": {
        "colab": {
          "base_uri": "https://localhost:8080/"
        },
        "id": "vK5EvHuhlF7K",
        "outputId": "a67a9919-6afc-4719-d2db-4e615f69feda"
      },
      "execution_count": null,
      "outputs": [
        {
          "output_type": "execute_result",
          "data": {
            "text/plain": [
              "(1, 2, 42, '56')"
            ]
          },
          "metadata": {},
          "execution_count": 13
        }
      ]
    },
    {
      "cell_type": "code",
      "source": [
        "p = \"Kenny\"\n",
        "q = \" Bee\"\n",
        "pq = p + q\n",
        "\n",
        "pq"
      ],
      "metadata": {
        "colab": {
          "base_uri": "https://localhost:8080/",
          "height": 36
        },
        "id": "aalQpxzelSIQ",
        "outputId": "44249b91-3a9e-4c74-c2d4-defd87dd5cde"
      },
      "execution_count": null,
      "outputs": [
        {
          "output_type": "execute_result",
          "data": {
            "text/plain": [
              "'Kenny Bee'"
            ],
            "application/vnd.google.colaboratory.intrinsic+json": {
              "type": "string"
            }
          },
          "metadata": {},
          "execution_count": 16
        }
      ]
    },
    {
      "cell_type": "code",
      "source": [
        "t = \"abcdefghijk\"\n",
        "print(t[3])\n",
        "print(len(t))"
      ],
      "metadata": {
        "colab": {
          "base_uri": "https://localhost:8080/"
        },
        "id": "g2nItQ1jl1N9",
        "outputId": "d2fde457-0f90-449e-b36e-23dacd49089d"
      },
      "execution_count": null,
      "outputs": [
        {
          "output_type": "stream",
          "name": "stdout",
          "text": [
            "d\n",
            "11\n"
          ]
        }
      ]
    },
    {
      "cell_type": "code",
      "source": [
        "str = \"BINUS University\"\n",
        "\n",
        "print(str[3:])\n",
        "print(str[3:10])\n",
        "print(str[:3])\n",
        "print(str[1:17:2])"
      ],
      "metadata": {
        "colab": {
          "base_uri": "https://localhost:8080/"
        },
        "id": "fyOqIa0ImF6F",
        "outputId": "ad357798-025b-4de6-c52f-28279fb1b137"
      },
      "execution_count": null,
      "outputs": [
        {
          "output_type": "stream",
          "name": "stdout",
          "text": [
            "US University\n",
            "US Univ\n",
            "BIN\n",
            "IU nvriy\n"
          ]
        }
      ]
    },
    {
      "cell_type": "code",
      "source": [
        "str2 = \"Hello\"\n",
        "print(str2.upper())\n",
        "print(str2.lower())\n",
        "print(str2.replace(\"H\", \"T\"))"
      ],
      "metadata": {
        "colab": {
          "base_uri": "https://localhost:8080/"
        },
        "id": "zBMSqz9Gm4Vn",
        "outputId": "124d2155-dcad-470a-fea9-0bde0e80c2dc"
      },
      "execution_count": null,
      "outputs": [
        {
          "output_type": "stream",
          "name": "stdout",
          "text": [
            "HELLO\n",
            "ell\n",
            "Tello\n"
          ]
        }
      ]
    },
    {
      "cell_type": "code",
      "source": [
        "fmt = \"Nama saya {} umur {}\"\n",
        "\n",
        "nama = \"Kenny\"\n",
        "umur = 18\n",
        "\n",
        "print(fmt.format(nama, umur))"
      ],
      "metadata": {
        "colab": {
          "base_uri": "https://localhost:8080/"
        },
        "id": "UbO2nXaFnkEf",
        "outputId": "83c2f256-623b-4e7a-ba99-7f6f22e9fe94"
      },
      "execution_count": null,
      "outputs": [
        {
          "output_type": "stream",
          "name": "stdout",
          "text": [
            "Nama saya Kenny umur 18\n"
          ]
        }
      ]
    },
    {
      "cell_type": "code",
      "source": [
        "fn = \"Kenny Bee Utomo\"\n",
        "for i in enumerate(fn):\n",
        "    print(i)"
      ],
      "metadata": {
        "colab": {
          "base_uri": "https://localhost:8080/"
        },
        "id": "St7vNDc6oso6",
        "outputId": "91f6a5bf-1e0d-484a-a00c-c744d06b8a69"
      },
      "execution_count": null,
      "outputs": [
        {
          "output_type": "stream",
          "name": "stdout",
          "text": [
            "(0, 'K')\n",
            "(1, 'e')\n",
            "(2, 'n')\n",
            "(3, 'n')\n",
            "(4, 'y')\n",
            "(5, ' ')\n",
            "(6, 'B')\n",
            "(7, 'e')\n",
            "(8, 'e')\n",
            "(9, ' ')\n",
            "(10, 'U')\n",
            "(11, 't')\n",
            "(12, 'o')\n",
            "(13, 'm')\n",
            "(14, 'o')\n"
          ]
        }
      ]
    },
    {
      "cell_type": "code",
      "source": [
        "def perbandingan(a, b):\n",
        "    if a > b:\n",
        "        print(\"a lebih besar dari b\")\n",
        "    elif a < b:\n",
        "        print(\"a lebih kecil dari b\")\n",
        "    else:\n",
        "        print(\"a sama dengan b\")"
      ],
      "metadata": {
        "id": "ygno2PmzpEuW"
      },
      "execution_count": null,
      "outputs": []
    },
    {
      "cell_type": "code",
      "source": [
        "perbandingan(4, 10)\n",
        "perbandingan(8, 2)\n",
        "perbandingan(7, 7)"
      ],
      "metadata": {
        "colab": {
          "base_uri": "https://localhost:8080/"
        },
        "id": "ox0yFcoUp-RB",
        "outputId": "34084c20-54b6-4637-b11c-8c27ea7f3621"
      },
      "execution_count": null,
      "outputs": [
        {
          "output_type": "stream",
          "name": "stdout",
          "text": [
            "a lebih kecil dari b\n",
            "a lebih besar dari b\n",
            "a sama dengan b\n"
          ]
        }
      ]
    },
    {
      "cell_type": "code",
      "source": [
        "i = 0\n",
        "while i < 10:\n",
        "    print(i)\n",
        "    i += 1"
      ],
      "metadata": {
        "colab": {
          "base_uri": "https://localhost:8080/"
        },
        "id": "voNjbSNPqJpA",
        "outputId": "76909e6a-7e19-4926-c2af-b168969a57ba"
      },
      "execution_count": null,
      "outputs": [
        {
          "output_type": "stream",
          "name": "stdout",
          "text": [
            "0\n",
            "1\n",
            "2\n",
            "3\n",
            "4\n",
            "5\n",
            "6\n",
            "7\n",
            "8\n",
            "9\n"
          ]
        }
      ]
    },
    {
      "cell_type": "code",
      "source": [
        "for i in range(0, 10):\n",
        "    print(i)"
      ],
      "metadata": {
        "colab": {
          "base_uri": "https://localhost:8080/"
        },
        "id": "aWVu9kzzrTbk",
        "outputId": "2081210b-2bec-4239-b21a-01da66015d63"
      },
      "execution_count": null,
      "outputs": [
        {
          "output_type": "stream",
          "name": "stdout",
          "text": [
            "0\n",
            "1\n",
            "2\n",
            "3\n",
            "4\n",
            "5\n",
            "6\n",
            "7\n",
            "8\n",
            "9\n"
          ]
        }
      ]
    },
    {
      "cell_type": "code",
      "source": [
        "def genap(x):\n",
        "    if x % 2 == 0:\n",
        "        return \"Genap\"\n",
        "    else:\n",
        "        return \"Ganjil\""
      ],
      "metadata": {
        "id": "Wfp0FuKQqyzy"
      },
      "execution_count": null,
      "outputs": []
    },
    {
      "cell_type": "code",
      "source": [
        "for i in range(0, 10):\n",
        "    print(i, \"itu\", genap(i))"
      ],
      "metadata": {
        "colab": {
          "base_uri": "https://localhost:8080/"
        },
        "id": "sPmrkhQ7tDx6",
        "outputId": "96850fea-87db-4d6e-b477-7fab24e8f0ba"
      },
      "execution_count": null,
      "outputs": [
        {
          "output_type": "stream",
          "name": "stdout",
          "text": [
            "0 itu Genap\n",
            "1 itu Ganjil\n",
            "2 itu Genap\n",
            "3 itu Ganjil\n",
            "4 itu Genap\n",
            "5 itu Ganjil\n",
            "6 itu Genap\n",
            "7 itu Ganjil\n",
            "8 itu Genap\n",
            "9 itu Ganjil\n"
          ]
        }
      ]
    },
    {
      "cell_type": "code",
      "source": [
        "import numpy as np"
      ],
      "metadata": {
        "id": "oVCFaF01ul39"
      },
      "execution_count": null,
      "outputs": []
    },
    {
      "cell_type": "code",
      "source": [
        "mtx1 = np.array([[1, 9, 0],\n",
        "                 [3, 4, 2],\n",
        "                 [5, 6, 8]])\n",
        "\n",
        "mtx2 = np.array([[7, 1, 2],\n",
        "                 [0, 2, 5],\n",
        "                 [7, 8, 3]])\n",
        "\n",
        "mtx1 * mtx2"
      ],
      "metadata": {
        "colab": {
          "base_uri": "https://localhost:8080/"
        },
        "id": "On8ZTMkcu7hW",
        "outputId": "687e6c3e-6f29-4709-b88d-3997b9ae2ef0"
      },
      "execution_count": null,
      "outputs": [
        {
          "output_type": "execute_result",
          "data": {
            "text/plain": [
              "array([[ 7,  9,  0],\n",
              "       [ 0,  8, 10],\n",
              "       [35, 48, 24]])"
            ]
          },
          "metadata": {},
          "execution_count": 100
        }
      ]
    },
    {
      "cell_type": "code",
      "source": [
        "xs = np.array([1, 4, 9, 0, 3, 2, 5, 7, 6, 8])\n",
        "print(\"Mean:\\t\", xs.mean())\n",
        "print(\"STD:\\t\", xs.std())\n",
        "print(\"Min:\\t\", xs.min())\n",
        "print(\"Max:\\t\", xs.max())"
      ],
      "metadata": {
        "colab": {
          "base_uri": "https://localhost:8080/"
        },
        "id": "Nlfgh7oUvLom",
        "outputId": "c732cdc1-b4b7-4f4d-a365-07f32f8dcb72"
      },
      "execution_count": null,
      "outputs": [
        {
          "output_type": "stream",
          "name": "stdout",
          "text": [
            "Mean:\t 4.5\n",
            "STD:\t 2.8722813232690143\n",
            "Min:\t 0\n",
            "Max:\t 9\n"
          ]
        }
      ]
    },
    {
      "cell_type": "markdown",
      "source": [
        "# TUGAS MODUL\n",
        "---"
      ],
      "metadata": {
        "id": "UIfOtgtOQI5X"
      }
    },
    {
      "cell_type": "code",
      "source": [
        "def calculate(uas, uts, asg):\n",
        "    return uas * 0.5 + uts * 0.3 + asg * 0.2\n",
        "\n",
        "def antara(x, min, max):\n",
        "    return x >= min and x <= max\n",
        "\n",
        "def grading(total):\n",
        "    if antara(total, 90, 100):\n",
        "        return \"A\"\n",
        "    elif antara(total, 85, 89):\n",
        "        return \"A-\"\n",
        "    elif antara(total, 80, 84):\n",
        "        return \"B+\"\n",
        "    elif antara(total, 75, 89):\n",
        "        return \"B\"\n",
        "    elif antara(total, 70, 89):\n",
        "        return \"B-\"\n",
        "    elif antara(total, 65, 89):\n",
        "        return \"C\"\n",
        "    elif antara(total, 60, 89):\n",
        "        return \"D\"\n",
        "    elif antara(total, 11, 89):\n",
        "        return \"E\"\n",
        "    else:\n",
        "        return \"F\"\n",
        "\n",
        "def inputPassword():\n",
        "    password = input(\"Masukkan password Anda : \")\n",
        "\n",
        "    if password != \"Admin123\":\n",
        "        print(\"Password salah\")\n",
        "        inputPassword()\n",
        "\n",
        "def inputNilai(kategori):\n",
        "    try:\n",
        "        nilai = float(input(\"Masukkan nilai \" + kategori + \" : \"))\n",
        "    except ValueError:\n",
        "        print(\"Invalid nilai! Harus float\")\n",
        "        return inputNilai(kategori)\n",
        "\n",
        "    if (not antara(nilai, 0, 100)):\n",
        "        print(\"Invalid nilai! Harus antara 0-100\")\n",
        "        return inputNilai(kategori)\n",
        "\n",
        "    return float(nilai)"
      ],
      "metadata": {
        "id": "NtbrgwhIxo2k"
      },
      "execution_count": 25,
      "outputs": []
    },
    {
      "cell_type": "code",
      "source": [
        "nama = input(\"Masukkan username Anda : \")\n",
        "inputPassword()\n",
        "\n",
        "print(\"Login berhasil! Selamat datang\", nama)\n",
        "print()\n",
        "\n",
        "namaSiswa = input(\"Masukkan nama siswa : \")\n",
        "uas = inputNilai(\"UAS\")\n",
        "uts = inputNilai(\"UTS\")\n",
        "asg = inputNilai(\"Assignment\")\n",
        "print()\n",
        "\n",
        "score = calculate(uas, uts, asg)\n",
        "grade = grading(score)\n",
        "\n",
        "print(\"============================================\")\n",
        "print(\"Hasil perolehan nilai\", namaSiswa)\n",
        "print(\"Final score:\", score)\n",
        "print(\"Grade\", grade)"
      ],
      "metadata": {
        "colab": {
          "base_uri": "https://localhost:8080/"
        },
        "id": "rNi44fJ50FQc",
        "outputId": "f4f0cd8f-9cd0-44ab-cda6-01b7b88348ef"
      },
      "execution_count": 29,
      "outputs": [
        {
          "output_type": "stream",
          "name": "stdout",
          "text": [
            "Masukkan username Anda : Allie\n",
            "Masukkan password Anda : Admin123\n",
            "Login berhasil! Selamat datang Allie\n",
            "\n",
            "Masukkan nama siswa : Reynard\n",
            "Masukkan nilai UAS : 78\n",
            "Masukkan nilai UTS : 100\n",
            "Masukkan nilai Assignment : 98\n",
            "\n",
            "========================\n",
            "Hasil perolehan nilai Reynard\n",
            "Final score: 88.6\n",
            "Grade A-\n"
          ]
        }
      ]
    }
  ]
}